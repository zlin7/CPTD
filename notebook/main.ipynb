{
 "cells": [
  {
   "cell_type": "code",
   "execution_count": 1,
   "id": "corresponding-carrier",
   "metadata": {},
   "outputs": [],
   "source": [
    "import sys; sys.path.append(\"..\")\n",
    "from importlib import reload\n",
    "import utils.main_experiments as tbr; reload(tbr)\n",
    "import utils.evaluate as eval_utils; reload(eval_utils)\n",
    "import data.online_dataset as dld; reload(dld)\n",
    "import numpy as np\n",
    "import pandas as pd\n",
    "import scipy.stats\n",
    "\n",
    "import matplotlib.pyplot as plt\n",
    "%matplotlib inline\n",
    "\n",
    "\n",
    "DATASETS = ['Load'] #+ [ 'COVID', 'MIMIC', 'claim', 'Load-R', 'EEG']\n",
    "NSEEDS = 2\n",
    "KEEP_TAIL_T = 20 #or None\n",
    "\n",
    "MAX_Ts = {dataset: dld.get_horizon(dataset) for dataset in DATASETS}\n",
    "N_TAILS = {dataset: int(np.ceil(0.1 * dld.get_default_ntest(dataset))) for dataset in DATASETS}\n",
    "_correct_alpha = lambda x: (x.replace(\"-Bon\", \"\"), '-Bon' in x)\n",
    "DATASETS_MAP = {_: r\"\\data{}\".format(_).replace(\"-\", \"\") for _ in DATASETS}\n",
    "DISPLAY_DATASETS_MAP = {\"MIMIC\": \"MIMIC\", \"COVID\":\"COVID\", \"EEG\":\"EEG\", \"Load\":\"Load\", \"Load-R\": \"Load-R\", 'claim': \"CLAIM\"}\n",
    "METHODS = ['CPTD-R', \"CPTD-M\"] + ['CFRNN'] + ['CQRNN', 'LASplit'] + ['QRNN', 'DPRNN']# + ['CFRNN-Bon']\n",
    "METHOD_MAP = {m:m for m in METHODS}\n",
    "\n",
    "NON_CONFORMALS = ['QRNN', 'DPRNN']"
   ]
  },
  {
   "cell_type": "code",
   "execution_count": 2,
   "id": "dec0a15e",
   "metadata": {
    "scrolled": true
   },
   "outputs": [
    {
     "name": "stderr",
     "output_type": "stream",
     "text": [
      "eval test: 100%|███████████████████████████████████████████████████████████████████████| 22/22 [00:03<00:00,  6.45it/s]\n",
      "Z:\\gitRes\\CPTD\\notebook\\..\\utils\\evaluate.py:58: SettingWithCopyWarning: \n",
      "A value is trying to be set on a copy of a slice from a DataFrame.\n",
      "Try using .loc[row_indexer,col_indexer] = value instead\n",
      "\n",
      "See the caveats in the documentation: https://pandas.pydata.org/pandas-docs/stable/user_guide/indexing.html#returning-a-view-versus-a-copy\n",
      "  df['cov'] = (df['y'] <= df['ub']) & (df['y'] >= df['lb'])\n",
      "Z:\\gitRes\\CPTD\\notebook\\..\\utils\\evaluate.py:59: SettingWithCopyWarning: \n",
      "A value is trying to be set on a copy of a slice from a DataFrame.\n",
      "Try using .loc[row_indexer,col_indexer] = value instead\n",
      "\n",
      "See the caveats in the documentation: https://pandas.pydata.org/pandas-docs/stable/user_guide/indexing.html#returning-a-view-versus-a-copy\n",
      "  df['w'] = (df['ub'] - df['lb'])\n",
      "eval test: 100%|███████████████████████████████████████████████████████████████████████| 22/22 [00:03<00:00,  6.60it/s]\n",
      "Z:\\gitRes\\CPTD\\notebook\\..\\utils\\evaluate.py:58: SettingWithCopyWarning: \n",
      "A value is trying to be set on a copy of a slice from a DataFrame.\n",
      "Try using .loc[row_indexer,col_indexer] = value instead\n",
      "\n",
      "See the caveats in the documentation: https://pandas.pydata.org/pandas-docs/stable/user_guide/indexing.html#returning-a-view-versus-a-copy\n",
      "  df['cov'] = (df['y'] <= df['ub']) & (df['y'] >= df['lb'])\n",
      "Z:\\gitRes\\CPTD\\notebook\\..\\utils\\evaluate.py:59: SettingWithCopyWarning: \n",
      "A value is trying to be set on a copy of a slice from a DataFrame.\n",
      "Try using .loc[row_indexer,col_indexer] = value instead\n",
      "\n",
      "See the caveats in the documentation: https://pandas.pydata.org/pandas-docs/stable/user_guide/indexing.html#returning-a-view-versus-a-copy\n",
      "  df['w'] = (df['ub'] - df['lb'])\n"
     ]
    },
    {
     "name": "stdout",
     "output_type": "stream",
     "text": [
      "1 Load CPTD-R\n"
     ]
    },
    {
     "name": "stderr",
     "output_type": "stream",
     "text": [
      "eval test: 100%|███████████████████████████████████████████████████████████████████████| 22/22 [00:00<00:00, 52.12it/s]\n",
      "Z:\\gitRes\\CPTD\\notebook\\..\\utils\\evaluate.py:58: SettingWithCopyWarning: \n",
      "A value is trying to be set on a copy of a slice from a DataFrame.\n",
      "Try using .loc[row_indexer,col_indexer] = value instead\n",
      "\n",
      "See the caveats in the documentation: https://pandas.pydata.org/pandas-docs/stable/user_guide/indexing.html#returning-a-view-versus-a-copy\n",
      "  df['cov'] = (df['y'] <= df['ub']) & (df['y'] >= df['lb'])\n",
      "Z:\\gitRes\\CPTD\\notebook\\..\\utils\\evaluate.py:59: SettingWithCopyWarning: \n",
      "A value is trying to be set on a copy of a slice from a DataFrame.\n",
      "Try using .loc[row_indexer,col_indexer] = value instead\n",
      "\n",
      "See the caveats in the documentation: https://pandas.pydata.org/pandas-docs/stable/user_guide/indexing.html#returning-a-view-versus-a-copy\n",
      "  df['w'] = (df['ub'] - df['lb'])\n",
      "eval test: 100%|███████████████████████████████████████████████████████████████████████| 22/22 [00:00<00:00, 53.16it/s]\n",
      "Z:\\gitRes\\CPTD\\notebook\\..\\utils\\evaluate.py:58: SettingWithCopyWarning: \n",
      "A value is trying to be set on a copy of a slice from a DataFrame.\n",
      "Try using .loc[row_indexer,col_indexer] = value instead\n",
      "\n",
      "See the caveats in the documentation: https://pandas.pydata.org/pandas-docs/stable/user_guide/indexing.html#returning-a-view-versus-a-copy\n",
      "  df['cov'] = (df['y'] <= df['ub']) & (df['y'] >= df['lb'])\n",
      "Z:\\gitRes\\CPTD\\notebook\\..\\utils\\evaluate.py:59: SettingWithCopyWarning: \n",
      "A value is trying to be set on a copy of a slice from a DataFrame.\n",
      "Try using .loc[row_indexer,col_indexer] = value instead\n",
      "\n",
      "See the caveats in the documentation: https://pandas.pydata.org/pandas-docs/stable/user_guide/indexing.html#returning-a-view-versus-a-copy\n",
      "  df['w'] = (df['ub'] - df['lb'])\n"
     ]
    },
    {
     "name": "stdout",
     "output_type": "stream",
     "text": [
      "1 Load CPTD-M\n"
     ]
    },
    {
     "name": "stderr",
     "output_type": "stream",
     "text": [
      "eval test: 100%|███████████████████████████████████████████████████████████████████████| 22/22 [00:00<00:00, 60.26it/s]\n",
      "Z:\\gitRes\\CPTD\\notebook\\..\\utils\\evaluate.py:58: SettingWithCopyWarning: \n",
      "A value is trying to be set on a copy of a slice from a DataFrame.\n",
      "Try using .loc[row_indexer,col_indexer] = value instead\n",
      "\n",
      "See the caveats in the documentation: https://pandas.pydata.org/pandas-docs/stable/user_guide/indexing.html#returning-a-view-versus-a-copy\n",
      "  df['cov'] = (df['y'] <= df['ub']) & (df['y'] >= df['lb'])\n",
      "Z:\\gitRes\\CPTD\\notebook\\..\\utils\\evaluate.py:59: SettingWithCopyWarning: \n",
      "A value is trying to be set on a copy of a slice from a DataFrame.\n",
      "Try using .loc[row_indexer,col_indexer] = value instead\n",
      "\n",
      "See the caveats in the documentation: https://pandas.pydata.org/pandas-docs/stable/user_guide/indexing.html#returning-a-view-versus-a-copy\n",
      "  df['w'] = (df['ub'] - df['lb'])\n",
      "eval test: 100%|███████████████████████████████████████████████████████████████████████| 22/22 [00:00<00:00, 59.29it/s]\n",
      "Z:\\gitRes\\CPTD\\notebook\\..\\utils\\evaluate.py:58: SettingWithCopyWarning: \n",
      "A value is trying to be set on a copy of a slice from a DataFrame.\n",
      "Try using .loc[row_indexer,col_indexer] = value instead\n",
      "\n",
      "See the caveats in the documentation: https://pandas.pydata.org/pandas-docs/stable/user_guide/indexing.html#returning-a-view-versus-a-copy\n",
      "  df['cov'] = (df['y'] <= df['ub']) & (df['y'] >= df['lb'])\n",
      "Z:\\gitRes\\CPTD\\notebook\\..\\utils\\evaluate.py:59: SettingWithCopyWarning: \n",
      "A value is trying to be set on a copy of a slice from a DataFrame.\n",
      "Try using .loc[row_indexer,col_indexer] = value instead\n",
      "\n",
      "See the caveats in the documentation: https://pandas.pydata.org/pandas-docs/stable/user_guide/indexing.html#returning-a-view-versus-a-copy\n",
      "  df['w'] = (df['ub'] - df['lb'])\n"
     ]
    },
    {
     "name": "stdout",
     "output_type": "stream",
     "text": [
      "1 Load CFRNN\n"
     ]
    },
    {
     "name": "stderr",
     "output_type": "stream",
     "text": [
      "eval test: 100%|███████████████████████████████████████████████████████████████████████| 22/22 [00:00<00:00, 56.11it/s]\n",
      "Z:\\gitRes\\CPTD\\notebook\\..\\utils\\evaluate.py:58: SettingWithCopyWarning: \n",
      "A value is trying to be set on a copy of a slice from a DataFrame.\n",
      "Try using .loc[row_indexer,col_indexer] = value instead\n",
      "\n",
      "See the caveats in the documentation: https://pandas.pydata.org/pandas-docs/stable/user_guide/indexing.html#returning-a-view-versus-a-copy\n",
      "  df['cov'] = (df['y'] <= df['ub']) & (df['y'] >= df['lb'])\n",
      "Z:\\gitRes\\CPTD\\notebook\\..\\utils\\evaluate.py:59: SettingWithCopyWarning: \n",
      "A value is trying to be set on a copy of a slice from a DataFrame.\n",
      "Try using .loc[row_indexer,col_indexer] = value instead\n",
      "\n",
      "See the caveats in the documentation: https://pandas.pydata.org/pandas-docs/stable/user_guide/indexing.html#returning-a-view-versus-a-copy\n",
      "  df['w'] = (df['ub'] - df['lb'])\n",
      "eval test: 100%|███████████████████████████████████████████████████████████████████████| 22/22 [00:00<00:00, 56.69it/s]\n",
      "Z:\\gitRes\\CPTD\\notebook\\..\\utils\\evaluate.py:58: SettingWithCopyWarning: \n",
      "A value is trying to be set on a copy of a slice from a DataFrame.\n",
      "Try using .loc[row_indexer,col_indexer] = value instead\n",
      "\n",
      "See the caveats in the documentation: https://pandas.pydata.org/pandas-docs/stable/user_guide/indexing.html#returning-a-view-versus-a-copy\n",
      "  df['cov'] = (df['y'] <= df['ub']) & (df['y'] >= df['lb'])\n",
      "Z:\\gitRes\\CPTD\\notebook\\..\\utils\\evaluate.py:59: SettingWithCopyWarning: \n",
      "A value is trying to be set on a copy of a slice from a DataFrame.\n",
      "Try using .loc[row_indexer,col_indexer] = value instead\n",
      "\n",
      "See the caveats in the documentation: https://pandas.pydata.org/pandas-docs/stable/user_guide/indexing.html#returning-a-view-versus-a-copy\n",
      "  df['w'] = (df['ub'] - df['lb'])\n"
     ]
    },
    {
     "name": "stdout",
     "output_type": "stream",
     "text": [
      "1 Load CQRNN\n"
     ]
    },
    {
     "name": "stderr",
     "output_type": "stream",
     "text": [
      "eval test: 100%|███████████████████████████████████████████████████████████████████████| 22/22 [00:00<00:00, 48.23it/s]\n",
      "Z:\\gitRes\\CPTD\\notebook\\..\\utils\\evaluate.py:58: SettingWithCopyWarning: \n",
      "A value is trying to be set on a copy of a slice from a DataFrame.\n",
      "Try using .loc[row_indexer,col_indexer] = value instead\n",
      "\n",
      "See the caveats in the documentation: https://pandas.pydata.org/pandas-docs/stable/user_guide/indexing.html#returning-a-view-versus-a-copy\n",
      "  df['cov'] = (df['y'] <= df['ub']) & (df['y'] >= df['lb'])\n",
      "Z:\\gitRes\\CPTD\\notebook\\..\\utils\\evaluate.py:59: SettingWithCopyWarning: \n",
      "A value is trying to be set on a copy of a slice from a DataFrame.\n",
      "Try using .loc[row_indexer,col_indexer] = value instead\n",
      "\n",
      "See the caveats in the documentation: https://pandas.pydata.org/pandas-docs/stable/user_guide/indexing.html#returning-a-view-versus-a-copy\n",
      "  df['w'] = (df['ub'] - df['lb'])\n",
      "eval test: 100%|███████████████████████████████████████████████████████████████████████| 22/22 [00:00<00:00, 51.03it/s]\n",
      "Z:\\gitRes\\CPTD\\notebook\\..\\utils\\evaluate.py:58: SettingWithCopyWarning: \n",
      "A value is trying to be set on a copy of a slice from a DataFrame.\n",
      "Try using .loc[row_indexer,col_indexer] = value instead\n",
      "\n",
      "See the caveats in the documentation: https://pandas.pydata.org/pandas-docs/stable/user_guide/indexing.html#returning-a-view-versus-a-copy\n",
      "  df['cov'] = (df['y'] <= df['ub']) & (df['y'] >= df['lb'])\n",
      "Z:\\gitRes\\CPTD\\notebook\\..\\utils\\evaluate.py:59: SettingWithCopyWarning: \n",
      "A value is trying to be set on a copy of a slice from a DataFrame.\n",
      "Try using .loc[row_indexer,col_indexer] = value instead\n",
      "\n",
      "See the caveats in the documentation: https://pandas.pydata.org/pandas-docs/stable/user_guide/indexing.html#returning-a-view-versus-a-copy\n",
      "  df['w'] = (df['ub'] - df['lb'])\n"
     ]
    },
    {
     "name": "stdout",
     "output_type": "stream",
     "text": [
      "1 Load LASplit\n"
     ]
    },
    {
     "name": "stderr",
     "output_type": "stream",
     "text": [
      "eval test: 100%|██████████████████████████████████████████████████████████████████████| 22/22 [00:00<00:00, 274.95it/s]\n",
      "Z:\\gitRes\\CPTD\\notebook\\..\\utils\\evaluate.py:58: SettingWithCopyWarning: \n",
      "A value is trying to be set on a copy of a slice from a DataFrame.\n",
      "Try using .loc[row_indexer,col_indexer] = value instead\n",
      "\n",
      "See the caveats in the documentation: https://pandas.pydata.org/pandas-docs/stable/user_guide/indexing.html#returning-a-view-versus-a-copy\n",
      "  df['cov'] = (df['y'] <= df['ub']) & (df['y'] >= df['lb'])\n",
      "Z:\\gitRes\\CPTD\\notebook\\..\\utils\\evaluate.py:59: SettingWithCopyWarning: \n",
      "A value is trying to be set on a copy of a slice from a DataFrame.\n",
      "Try using .loc[row_indexer,col_indexer] = value instead\n",
      "\n",
      "See the caveats in the documentation: https://pandas.pydata.org/pandas-docs/stable/user_guide/indexing.html#returning-a-view-versus-a-copy\n",
      "  df['w'] = (df['ub'] - df['lb'])\n",
      "eval test: 100%|██████████████████████████████████████████████████████████████████████| 22/22 [00:00<00:00, 297.23it/s]\n",
      "Z:\\gitRes\\CPTD\\notebook\\..\\utils\\evaluate.py:58: SettingWithCopyWarning: \n",
      "A value is trying to be set on a copy of a slice from a DataFrame.\n",
      "Try using .loc[row_indexer,col_indexer] = value instead\n",
      "\n",
      "See the caveats in the documentation: https://pandas.pydata.org/pandas-docs/stable/user_guide/indexing.html#returning-a-view-versus-a-copy\n",
      "  df['cov'] = (df['y'] <= df['ub']) & (df['y'] >= df['lb'])\n",
      "Z:\\gitRes\\CPTD\\notebook\\..\\utils\\evaluate.py:59: SettingWithCopyWarning: \n",
      "A value is trying to be set on a copy of a slice from a DataFrame.\n",
      "Try using .loc[row_indexer,col_indexer] = value instead\n",
      "\n",
      "See the caveats in the documentation: https://pandas.pydata.org/pandas-docs/stable/user_guide/indexing.html#returning-a-view-versus-a-copy\n",
      "  df['w'] = (df['ub'] - df['lb'])\n"
     ]
    },
    {
     "name": "stdout",
     "output_type": "stream",
     "text": [
      "1 Load QRNN\n"
     ]
    },
    {
     "name": "stderr",
     "output_type": "stream",
     "text": [
      "eval test: 100%|███████████████████████████████████████████████████████████████████████| 22/22 [00:05<00:00,  4.10it/s]\n",
      "Z:\\gitRes\\CPTD\\notebook\\..\\utils\\evaluate.py:58: SettingWithCopyWarning: \n",
      "A value is trying to be set on a copy of a slice from a DataFrame.\n",
      "Try using .loc[row_indexer,col_indexer] = value instead\n",
      "\n",
      "See the caveats in the documentation: https://pandas.pydata.org/pandas-docs/stable/user_guide/indexing.html#returning-a-view-versus-a-copy\n",
      "  df['cov'] = (df['y'] <= df['ub']) & (df['y'] >= df['lb'])\n",
      "Z:\\gitRes\\CPTD\\notebook\\..\\utils\\evaluate.py:59: SettingWithCopyWarning: \n",
      "A value is trying to be set on a copy of a slice from a DataFrame.\n",
      "Try using .loc[row_indexer,col_indexer] = value instead\n",
      "\n",
      "See the caveats in the documentation: https://pandas.pydata.org/pandas-docs/stable/user_guide/indexing.html#returning-a-view-versus-a-copy\n",
      "  df['w'] = (df['ub'] - df['lb'])\n",
      "eval test: 100%|███████████████████████████████████████████████████████████████████████| 22/22 [00:05<00:00,  4.35it/s]\n",
      "Z:\\gitRes\\CPTD\\notebook\\..\\utils\\evaluate.py:58: SettingWithCopyWarning: \n",
      "A value is trying to be set on a copy of a slice from a DataFrame.\n",
      "Try using .loc[row_indexer,col_indexer] = value instead\n",
      "\n",
      "See the caveats in the documentation: https://pandas.pydata.org/pandas-docs/stable/user_guide/indexing.html#returning-a-view-versus-a-copy\n",
      "  df['cov'] = (df['y'] <= df['ub']) & (df['y'] >= df['lb'])\n",
      "Z:\\gitRes\\CPTD\\notebook\\..\\utils\\evaluate.py:59: SettingWithCopyWarning: \n",
      "A value is trying to be set on a copy of a slice from a DataFrame.\n",
      "Try using .loc[row_indexer,col_indexer] = value instead\n",
      "\n",
      "See the caveats in the documentation: https://pandas.pydata.org/pandas-docs/stable/user_guide/indexing.html#returning-a-view-versus-a-copy\n",
      "  df['w'] = (df['ub'] - df['lb'])\n"
     ]
    },
    {
     "name": "stdout",
     "output_type": "stream",
     "text": [
      "1 Load DPRNN\n"
     ]
    },
    {
     "name": "stderr",
     "output_type": "stream",
     "text": [
      "eval test: 100%|███████████████████████████████████████████████████████████████████████| 22/22 [00:03<00:00,  6.31it/s]\n",
      "eval test: 100%|███████████████████████████████████████████████████████████████████████| 22/22 [00:03<00:00,  6.65it/s]\n"
     ]
    },
    {
     "name": "stdout",
     "output_type": "stream",
     "text": [
      "2 Load CPTD-R\n"
     ]
    },
    {
     "name": "stderr",
     "output_type": "stream",
     "text": [
      "eval test: 100%|███████████████████████████████████████████████████████████████████████| 22/22 [00:00<00:00, 53.00it/s]\n",
      "eval test: 100%|███████████████████████████████████████████████████████████████████████| 22/22 [00:00<00:00, 53.91it/s]\n"
     ]
    },
    {
     "name": "stdout",
     "output_type": "stream",
     "text": [
      "2 Load CPTD-M\n"
     ]
    },
    {
     "name": "stderr",
     "output_type": "stream",
     "text": [
      "eval test: 100%|███████████████████████████████████████████████████████████████████████| 22/22 [00:00<00:00, 60.10it/s]\n",
      "eval test: 100%|███████████████████████████████████████████████████████████████████████| 22/22 [00:00<00:00, 61.27it/s]\n"
     ]
    },
    {
     "name": "stdout",
     "output_type": "stream",
     "text": [
      "2 Load CFRNN\n"
     ]
    },
    {
     "name": "stderr",
     "output_type": "stream",
     "text": [
      "eval test: 100%|███████████████████████████████████████████████████████████████████████| 22/22 [00:00<00:00, 55.13it/s]\n",
      "eval test: 100%|███████████████████████████████████████████████████████████████████████| 22/22 [00:00<00:00, 55.68it/s]\n"
     ]
    },
    {
     "name": "stdout",
     "output_type": "stream",
     "text": [
      "2 Load CQRNN\n"
     ]
    },
    {
     "name": "stderr",
     "output_type": "stream",
     "text": [
      "eval test: 100%|███████████████████████████████████████████████████████████████████████| 22/22 [00:00<00:00, 51.15it/s]\n",
      "eval test: 100%|███████████████████████████████████████████████████████████████████████| 22/22 [00:00<00:00, 48.45it/s]\n"
     ]
    },
    {
     "name": "stdout",
     "output_type": "stream",
     "text": [
      "2 Load LASplit\n"
     ]
    },
    {
     "name": "stderr",
     "output_type": "stream",
     "text": [
      "eval test: 100%|██████████████████████████████████████████████████████████████████████| 22/22 [00:00<00:00, 314.22it/s]\n",
      "eval test: 100%|██████████████████████████████████████████████████████████████████████| 22/22 [00:00<00:00, 301.31it/s]\n"
     ]
    },
    {
     "name": "stdout",
     "output_type": "stream",
     "text": [
      "2 Load QRNN\n"
     ]
    },
    {
     "name": "stderr",
     "output_type": "stream",
     "text": [
      "eval test: 100%|███████████████████████████████████████████████████████████████████████| 22/22 [00:04<00:00,  4.57it/s]\n",
      "eval test: 100%|███████████████████████████████████████████████████████████████████████| 22/22 [00:04<00:00,  4.48it/s]"
     ]
    },
    {
     "name": "stdout",
     "output_type": "stream",
     "text": [
      "2 Load DPRNN\n"
     ]
    },
    {
     "name": "stderr",
     "output_type": "stream",
     "text": [
      "\n"
     ]
    }
   ],
   "source": [
    "from collections import defaultdict\n",
    "ws, covs, cov_granular, ws2, covs2, cov_granular2 = [defaultdict(dict) for _ in range(6)]\n",
    "for dataset in DATASETS:\n",
    "    min_t = 0 if KEEP_TAIL_T is None else (MAX_Ts[dataset] - KEEP_TAIL_T)\n",
    "    assert min_t >= 0\n",
    "    pred_kwargs={\"update_cal\": True} if dataset == 'Load' else {}\n",
    "    \n",
    "    for method in METHODS:\n",
    "        base_method, correct_alpha = _correct_alpha(method)\n",
    "        ws[dataset][method], covs[dataset][method], cov_granular[dataset][method] = tbr.summ_results(base_method, dataset, seeds=range(NSEEDS), correct_alpha=correct_alpha, min_t=min_t, pred_kwargs=pred_kwargs, summ_by_T=True)\n",
    "        print(1, dataset, method)\n",
    "    for method in ws[dataset].keys():\n",
    "        rescale_width = ws[dataset][\"CFRNN\"]['mean'].mean() / ws[dataset][method]['mean'].mean()\n",
    "        base_method, correct_alpha = _correct_alpha(method)\n",
    "        ws2[dataset][method], covs2[dataset][method], cov_granular2[dataset][method] = tbr.summ_results(base_method, dataset, seeds=range(NSEEDS), correct_alpha=correct_alpha, min_t=min_t, rescale_width=rescale_width, pred_kwargs=pred_kwargs, summ_by_T=True)\n",
    "        print(2, dataset, method)"
   ]
  },
  {
   "cell_type": "code",
   "execution_count": 3,
   "id": "5d25a57c",
   "metadata": {},
   "outputs": [
    {
     "name": "stdout",
     "output_type": "stream",
     "text": [
      "Coverage & CPTD-R & CPTD-M & CFRNN & CQRNN & LASplit & QRNN & DPRNN\\\\\n",
      "\\dataLoad & 88.67$\\pm$0.03 & \\textbf{89.22$\\pm$0.18} & \\textbf{88.71$\\pm$0.11} & \\textbf{89.26$\\pm$0.27} & \\textbf{89.06$\\pm$0.19} & \\textbf{80.61$\\pm$2.65} & \\textbf{89.95$\\pm$0.26}\\\\\n"
     ]
    }
   ],
   "source": [
    "# The Coverage Table\n",
    "def _cov_str(key, d, target=0.90, p=0.01):\n",
    "    _cov = d[key].mean(1)\n",
    "    ttest_res = scipy.stats.ttest_1samp(_cov, target, alternative='less')\n",
    "    ret = f\"{_cov.mean() * 100:.2f}$\\pm${_cov.std() * 100:.2f}\"\n",
    "    if ttest_res.pvalue >= p: ret = \"\\\\textbf{%s}\"%ret\n",
    "    return ret\n",
    "print(\"Coverage & \" + \" & \".join(METHOD_MAP.get(m,m) for m in METHODS) + \"\\\\\\\\\")\n",
    "for dataset in DATASETS:\n",
    "    print(f\"{DATASETS_MAP.get(dataset, dataset)} & \" + \" & \".join([_cov_str(m, covs[dataset]) for m in METHODS]) + \"\\\\\\\\\")"
   ]
  },
  {
   "cell_type": "code",
   "execution_count": 4,
   "id": "8bc16b11",
   "metadata": {},
   "outputs": [
    {
     "name": "stdout",
     "output_type": "stream",
     "text": [
      "Mean Width $\\downarrow$ & CPTD-R & CPTD-M & CFRNN & CQRNN & LASplit & QRNN & DPRNN\\\\\n",
      "\\dataLoad & \\textbf{0.200$\\pm$0.009} & \\textbf{0.231$\\pm$0.013} & \\textbf{0.210$\\pm$0.011} & \\textbf{0.218$\\pm$0.008} & \\textbf{0.213$\\pm$0.015} & 0.173$\\pm$0.001 & 0.576$\\pm$0.006\\\\\n"
     ]
    }
   ],
   "source": [
    "# The width table\n",
    "reload(eval_utils)\n",
    "def _width_str(key, d, pvals, p=0.01):\n",
    "    ret = f\"{d[key]['mean']:.3f}$\\pm${d[key]['std'] :.3f}\"\n",
    "    if pvals[key] >= p and key not in NON_CONFORMALS: ret = \"\\\\textbf{%s}\"%ret\n",
    "    return ret\n",
    "print(\"Mean Width $\\\\downarrow$ & \" + \" & \".join(METHOD_MAP.get(m,m) for m in METHODS) + \"\\\\\\\\\")\n",
    "for dataset in DATASETS:\n",
    "    means = pd.DataFrame({k: ws[dataset][k]['mean'] for k in METHODS}).reindex(columns=METHODS)\n",
    "    _best_method = means.drop(NON_CONFORMALS,axis=1,errors='ignore').mean().sort_values(ascending=True).index[0]\n",
    "    pvals = {m: scipy.stats.ttest_ind(means[m], means[_best_method]).pvalue for m in means.columns}\n",
    "    print(f\"{DATASETS_MAP[dataset]} & \" + \" & \".join([_width_str(m, means.describe(), pvals) for m in METHODS]) + \"\\\\\\\\\")"
   ]
  },
  {
   "cell_type": "code",
   "execution_count": 5,
   "id": "8f71519f",
   "metadata": {
    "scrolled": false
   },
   "outputs": [
    {
     "name": "stdout",
     "output_type": "stream",
     "text": [
      "Tail Coverage Rate $\\uparrow$ & CPTD-R & CPTD-M & CFRNN & CQRNN & LASplit & QRNN & DPRNN\\\\\n",
      "\\dataLoad & \\textbf{70.96$\\pm$0.05} & \\textbf{68.29$\\pm$2.12} & 59.71$\\pm$0.71 & 61.46$\\pm$0.25 & 60.25$\\pm$1.36 & \\textbf{61.61$\\pm$3.38} & 30.96$\\pm$0.56\\\\\n"
     ]
    },
    {
     "data": {
      "image/png": "[encoded data removed]",
      "text/plain": [
       "<Figure size 432x288 with 1 Axes>"
      ]
     },
     "metadata": {
      "needs_background": "light"
     },
     "output_type": "display_data"
    }
   ],
   "source": [
    "# The RESCALED TCR Table\n",
    "reload(eval_utils)\n",
    "def _tcr_str(key, d, pvals, p=0.01):\n",
    "    ret = f\"{d[key]['mean'] * 100:.2f}$\\pm${d[key]['std'] * 100:.2f}\"\n",
    "    if pvals[key] >= p: ret = \"\\\\textbf{%s}\"%ret\n",
    "    return ret\n",
    "print(\"Tail Coverage Rate $\\\\uparrow$ & \" + \" & \".join(METHOD_MAP.get(m,m) for m in METHODS) + \"\\\\\\\\\")\n",
    "for dataset in DATASETS:\n",
    "    eval_utils.plot_coverage(covs2[dataset], perc=10, nx=N_TAILS[dataset], rename_cols=METHOD_MAP, title=DISPLAY_DATASETS_MAP[dataset])\n",
    "    tcrs = eval_utils.compare_tail_coverage(covs2[dataset], tail_n=N_TAILS[dataset], quiet=True)\n",
    "    _best_method = tcrs.drop(['QRNN', 'DPRNN'],axis=1,errors='ignore').mean().sort_values(ascending=False).index[0]\n",
    "    pvals = {m: scipy.stats.ttest_ind(tcrs[m], tcrs[_best_method]).pvalue for m in tcrs.columns}\n",
    "    #print(pvals)\n",
    "    print(f\"{DATASETS_MAP[dataset]} & \" + \" & \".join([_tcr_str(m, tcrs.describe(), pvals) for m in METHODS]) + \"\\\\\\\\\")"
   ]
  }
 ],
 "metadata": {
  "kernelspec": {
   "display_name": "Python 3 (ipykernel)",
   "language": "python",
   "name": "python3"
  },
  "language_info": {
   "codemirror_mode": {
    "name": "ipython",
    "version": 3
   },
   "file_extension": ".py",
   "mimetype": "text/x-python",
   "name": "python",
   "nbconvert_exporter": "python",
   "pygments_lexer": "ipython3",
   "version": "3.9.12"
  }
 },
 "nbformat": 4,
 "nbformat_minor": 5
}
